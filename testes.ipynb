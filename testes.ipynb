{
 "cells": [
  {
   "cell_type": "code",
   "execution_count": 5,
   "metadata": {},
   "outputs": [],
   "source": [
    "import json\n",
    "from modules.ncbi import esearch,efetch"
   ]
  },
  {
   "cell_type": "code",
   "execution_count": 6,
   "metadata": {},
   "outputs": [
    {
     "name": "stderr",
     "output_type": "stream",
     "text": [
      "27/12/2023 - 10:47:06 (einfo) INFO: Resquest successfull!!\n",
      "27/12/2023 - 10:47:06 (esearch) INFO: Checking if the database is valid\n",
      "27/12/2023 - 10:47:06 (esearch) INFO: Checking if the datetype is valid\n",
      "27/12/2023 - 10:47:06 (einfo) INFO: Resquest successfull!!\n",
      "27/12/2023 - 10:47:06 (esearch) INFO: Resquest successfull!!\n"
     ]
    }
   ],
   "source": [
    "response_esearch = esearch(database='pubmed',term='zika+virus[title]',reldate=60,datetype='edat',retmax=100,retmode='json').text\n",
    "response_esearch_json = json.loads(response_esearch)"
   ]
  },
  {
   "cell_type": "code",
   "execution_count": 7,
   "metadata": {},
   "outputs": [],
   "source": [
    "list_of_ids = response_esearch_json.get('esearchresult').get('idlist')"
   ]
  },
  {
   "cell_type": "code",
   "execution_count": 8,
   "metadata": {},
   "outputs": [
    {
     "name": "stderr",
     "output_type": "stream",
     "text": [
      "27/12/2023 - 10:47:06 (efetch) INFO: Building the essencial url\n",
      "27/12/2023 - 10:47:06 (efetch) INFO: Building a optional features\n",
      "27/12/2023 - 10:47:06 (efetch) INFO: Trying request\n",
      "27/12/2023 - 10:47:06 (efetch) INFO: Resquest successfull!!\n"
     ]
    }
   ],
   "source": [
    "# Method to download all sequences in a single file\n",
    "list_of_ids_joined = ' ,'.join(list_of_ids)\n",
    "response_efetch = efetch(database='nuccore',id=list_of_ids_joined,rettype='gbc',retmode='xml')\n",
    "with open(f'data/raw/sequences.xml','w') as file:\n",
    "    file.write(response_efetch.text)"
   ]
  },
  {
   "cell_type": "code",
   "execution_count": null,
   "metadata": {},
   "outputs": [],
   "source": [
    "# One sequence per file method\n",
    "for uuid in list_of_ids:\n",
    "    response_efetch = efetch(database='nuccore',id=uuid,rettype='gbc',retmode='xml')\n",
    "    with open(f'data/raw/{uuid}.xml','wb') as file:\n",
    "        file.write(response_efetch.content)"
   ]
  }
 ],
 "metadata": {
  "kernelspec": {
   "display_name": "venv",
   "language": "python",
   "name": "python3"
  },
  "language_info": {
   "codemirror_mode": {
    "name": "ipython",
    "version": 3
   },
   "file_extension": ".py",
   "mimetype": "text/x-python",
   "name": "python",
   "nbconvert_exporter": "python",
   "pygments_lexer": "ipython3",
   "version": "3.11.6"
  }
 },
 "nbformat": 4,
 "nbformat_minor": 2
}
