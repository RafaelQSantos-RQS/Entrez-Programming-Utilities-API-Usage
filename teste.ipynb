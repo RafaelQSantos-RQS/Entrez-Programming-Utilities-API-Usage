{
 "cells": [
  {
   "cell_type": "code",
   "execution_count": 5,
   "metadata": {},
   "outputs": [],
   "source": [
    "from modules.ncbi import Ncbi\n",
    "from modules.utilities import Utilities"
   ]
  },
  {
   "cell_type": "code",
   "execution_count": 6,
   "metadata": {},
   "outputs": [
    {
     "name": "stdout",
     "output_type": "stream",
     "text": [
      "Diretório data/raw criado com sucesso!!\n",
      "Diretório data/analysis criado com sucesso!!\n",
      "Diretório data/processed criado com sucesso!!\n"
     ]
    }
   ],
   "source": [
    "Utilities.prepare_data_filesystem()"
   ]
  },
  {
   "cell_type": "code",
   "execution_count": 7,
   "metadata": {},
   "outputs": [],
   "source": [
    "Ncbi.basic_search(filename='data/raw/data.xml',database=\"pubmed\",query='science[journal]+AND+breast+cancer+AND+2008[pdat]')"
   ]
  },
  {
   "cell_type": "code",
   "execution_count": 8,
   "metadata": {},
   "outputs": [
    {
     "name": "stdout",
     "output_type": "stream",
     "text": [
      "web: None | Key: None | count: 228507\n",
      "Não foi possível abrir o arquivo! Error: 500 Server Error: Internal Server Error for url: https://eutils.ncbi.nlm.nih.gov/entrez/eutils/efetch.fcgi?db=nucleotide&WebEnv=None&query_key=None&retstart=0&retmax=500&rettype=xml&retmode=text\n",
      "Erro na solicitação: 500 Server Error: Internal Server Error for url: https://eutils.ncbi.nlm.nih.gov/entrez/eutils/efetch.fcgi?db=nucleotide&WebEnv=None&query_key=None&retstart=0&retmax=500&rettype=xml&retmode=text\n"
     ]
    },
    {
     "ename": "HTTPError",
     "evalue": "500 Server Error: Internal Server Error for url: https://eutils.ncbi.nlm.nih.gov/entrez/eutils/efetch.fcgi?db=nucleotide&WebEnv=None&query_key=None&retstart=0&retmax=500&rettype=xml&retmode=text",
     "output_type": "error",
     "traceback": [
      "\u001b[0;31m---------------------------------------------------------------------------\u001b[0m",
      "\u001b[0;31mHTTPError\u001b[0m                                 Traceback (most recent call last)",
      "Cell \u001b[0;32mIn[8], line 1\u001b[0m\n\u001b[0;32m----> 1\u001b[0m \u001b[43mNcbi\u001b[49m\u001b[38;5;241;43m.\u001b[39;49m\u001b[43mdownload_all_records\u001b[49m\u001b[43m(\u001b[49m\u001b[43mdatabase\u001b[49m\u001b[38;5;241;43m=\u001b[39;49m\u001b[38;5;124;43m'\u001b[39;49m\u001b[38;5;124;43mnucleotide\u001b[39;49m\u001b[38;5;124;43m'\u001b[39;49m\u001b[43m,\u001b[49m\u001b[43mquery\u001b[49m\u001b[38;5;241;43m=\u001b[39;49m\u001b[38;5;124;43m'\u001b[39;49m\u001b[38;5;124;43mchimpanzee[orgn]+AND+biomol+mrna[prop]\u001b[39;49m\u001b[38;5;124;43m'\u001b[39;49m\u001b[43m,\u001b[49m\u001b[43mfilename\u001b[49m\u001b[38;5;241;43m=\u001b[39;49m\u001b[38;5;124;43m'\u001b[39;49m\u001b[38;5;124;43mdata/raw/chimp.xml\u001b[39;49m\u001b[38;5;124;43m'\u001b[39;49m\u001b[43m)\u001b[49m\n",
      "File \u001b[0;32m~/Documentos/Github/ncbi/modules/ncbi.py:72\u001b[0m, in \u001b[0;36mNcbi.download_all_records\u001b[0;34m(database, query, filename, use_history)\u001b[0m\n\u001b[1;32m     70\u001b[0m \u001b[38;5;66;03m# Enviar a solicitação efetch\u001b[39;00m\n\u001b[1;32m     71\u001b[0m response_efetch \u001b[38;5;241m=\u001b[39m requests\u001b[38;5;241m.\u001b[39mget(url_efetch)\n\u001b[0;32m---> 72\u001b[0m \u001b[43mresponse_efetch\u001b[49m\u001b[38;5;241;43m.\u001b[39;49m\u001b[43mraise_for_status\u001b[49m\u001b[43m(\u001b[49m\u001b[43m)\u001b[49m  \u001b[38;5;66;03m# Verifica se houve um erro na solicitação\u001b[39;00m\n\u001b[1;32m     73\u001b[0m efetch_out \u001b[38;5;241m=\u001b[39m response_efetch\u001b[38;5;241m.\u001b[39mtext\n\u001b[1;32m     75\u001b[0m \u001b[38;5;66;03m# Escrever os resultados no arquivo\u001b[39;00m\n",
      "File \u001b[0;32m~/Documentos/Github/ncbi/venv/lib/python3.11/site-packages/requests/models.py:1021\u001b[0m, in \u001b[0;36mResponse.raise_for_status\u001b[0;34m(self)\u001b[0m\n\u001b[1;32m   1016\u001b[0m     http_error_msg \u001b[38;5;241m=\u001b[39m (\n\u001b[1;32m   1017\u001b[0m         \u001b[38;5;124mf\u001b[39m\u001b[38;5;124m\"\u001b[39m\u001b[38;5;132;01m{\u001b[39;00m\u001b[38;5;28mself\u001b[39m\u001b[38;5;241m.\u001b[39mstatus_code\u001b[38;5;132;01m}\u001b[39;00m\u001b[38;5;124m Server Error: \u001b[39m\u001b[38;5;132;01m{\u001b[39;00mreason\u001b[38;5;132;01m}\u001b[39;00m\u001b[38;5;124m for url: \u001b[39m\u001b[38;5;132;01m{\u001b[39;00m\u001b[38;5;28mself\u001b[39m\u001b[38;5;241m.\u001b[39murl\u001b[38;5;132;01m}\u001b[39;00m\u001b[38;5;124m\"\u001b[39m\n\u001b[1;32m   1018\u001b[0m     )\n\u001b[1;32m   1020\u001b[0m \u001b[38;5;28;01mif\u001b[39;00m http_error_msg:\n\u001b[0;32m-> 1021\u001b[0m     \u001b[38;5;28;01mraise\u001b[39;00m HTTPError(http_error_msg, response\u001b[38;5;241m=\u001b[39m\u001b[38;5;28mself\u001b[39m)\n",
      "\u001b[0;31mHTTPError\u001b[0m: 500 Server Error: Internal Server Error for url: https://eutils.ncbi.nlm.nih.gov/entrez/eutils/efetch.fcgi?db=nucleotide&WebEnv=None&query_key=None&retstart=0&retmax=500&rettype=xml&retmode=text"
     ]
    }
   ],
   "source": [
    "Ncbi.download_all_records(database='nucleotide',query='chimpanzee[orgn]+AND+biomol+mrna[prop]',filename='data/raw/chimp.xml')"
   ]
  }
 ],
 "metadata": {
  "kernelspec": {
   "display_name": "venv",
   "language": "python",
   "name": "python3"
  },
  "language_info": {
   "codemirror_mode": {
    "name": "ipython",
    "version": 3
   },
   "file_extension": ".py",
   "mimetype": "text/x-python",
   "name": "python",
   "nbconvert_exporter": "python",
   "pygments_lexer": "ipython3",
   "version": "3.11.6"
  }
 },
 "nbformat": 4,
 "nbformat_minor": 2
}
