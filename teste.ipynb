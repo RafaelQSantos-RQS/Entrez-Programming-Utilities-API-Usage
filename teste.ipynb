{
 "cells": [
  {
   "cell_type": "code",
   "execution_count": 1,
   "metadata": {},
   "outputs": [],
   "source": [
    "from modules.ncbi import Ncbi"
   ]
  },
  {
   "cell_type": "code",
   "execution_count": 2,
   "metadata": {},
   "outputs": [],
   "source": [
    "Ncbi.basic_search(filename='data/raw/data.xml',database=\"pubmed\",query='science[journal]+AND+breast+cancer+AND+2008[pdat]')"
   ]
  },
  {
   "cell_type": "code",
   "execution_count": 3,
   "metadata": {},
   "outputs": [
    {
     "name": "stdout",
     "output_type": "stream",
     "text": [
      "web: None | Key: None | count: 228504\n"
     ]
    },
    {
     "ename": "UnboundLocalError",
     "evalue": "cannot access local variable 'e' where it is not associated with a value",
     "output_type": "error",
     "traceback": [
      "\u001b[1;31m---------------------------------------------------------------------------\u001b[0m",
      "\u001b[1;31mHTTPError\u001b[0m                                 Traceback (most recent call last)",
      "File \u001b[1;32mc:\\Users\\rafael.qsantos\\Documents\\GitHub\\ncbi\\modules\\ncbi.py:72\u001b[0m, in \u001b[0;36mNcbi.download_all_records\u001b[1;34m(database, query, filename, use_history)\u001b[0m\n\u001b[0;32m     71\u001b[0m response_efetch \u001b[39m=\u001b[39m requests\u001b[39m.\u001b[39mget(url_efetch)\n\u001b[1;32m---> 72\u001b[0m response_efetch\u001b[39m.\u001b[39;49mraise_for_status()  \u001b[39m# Verifica se houve um erro na solicitação\u001b[39;00m\n\u001b[0;32m     73\u001b[0m efetch_out \u001b[39m=\u001b[39m response_efetch\u001b[39m.\u001b[39mtext\n",
      "File \u001b[1;32mc:\\Users\\rafael.qsantos\\Documents\\GitHub\\ncbi\\venv\\Lib\\site-packages\\requests\\models.py:1021\u001b[0m, in \u001b[0;36mResponse.raise_for_status\u001b[1;34m(self)\u001b[0m\n\u001b[0;32m   1020\u001b[0m \u001b[39mif\u001b[39;00m http_error_msg:\n\u001b[1;32m-> 1021\u001b[0m     \u001b[39mraise\u001b[39;00m HTTPError(http_error_msg, response\u001b[39m=\u001b[39m\u001b[39mself\u001b[39m)\n",
      "\u001b[1;31mHTTPError\u001b[0m: 500 Server Error: Internal Server Error for url: https://eutils.ncbi.nlm.nih.gov/entrez/eutils/efetch.fcgi?db=nucleotide&WebEnv=None&query_key=None&retstart=0&retmax=500&rettype=xml&retmode=text",
      "\nDuring handling of the above exception, another exception occurred:\n",
      "\u001b[1;31mUnboundLocalError\u001b[0m                         Traceback (most recent call last)",
      "\u001b[1;32mc:\\Users\\rafael.qsantos\\Documents\\GitHub\\ncbi\\teste.ipynb Célula 3\u001b[0m line \u001b[0;36m1\n\u001b[1;32m----> <a href='vscode-notebook-cell:/c%3A/Users/rafael.qsantos/Documents/GitHub/ncbi/teste.ipynb#X10sZmlsZQ%3D%3D?line=0'>1</a>\u001b[0m Ncbi\u001b[39m.\u001b[39;49mdownload_all_records(database\u001b[39m=\u001b[39;49m\u001b[39m'\u001b[39;49m\u001b[39mnucleotide\u001b[39;49m\u001b[39m'\u001b[39;49m,query\u001b[39m=\u001b[39;49m\u001b[39m'\u001b[39;49m\u001b[39mchimpanzee[orgn]+AND+biomol+mrna[prop]\u001b[39;49m\u001b[39m'\u001b[39;49m,filename\u001b[39m=\u001b[39;49m\u001b[39m'\u001b[39;49m\u001b[39mdata/raw/chimp.xml\u001b[39;49m\u001b[39m'\u001b[39;49m)\n",
      "File \u001b[1;32mc:\\Users\\rafael.qsantos\\Documents\\GitHub\\ncbi\\modules\\ncbi.py:78\u001b[0m, in \u001b[0;36mNcbi.download_all_records\u001b[1;34m(database, query, filename, use_history)\u001b[0m\n\u001b[0;32m     76\u001b[0m                 file\u001b[39m.\u001b[39mwrite(efetch_out)\n\u001b[0;32m     77\u001b[0m     \u001b[39mexcept\u001b[39;00m \u001b[39mIOError\u001b[39;00m \u001b[39mas\u001b[39;00m err:\n\u001b[1;32m---> 78\u001b[0m         \u001b[39mprint\u001b[39m(\u001b[39mf\u001b[39m\u001b[39m\"\u001b[39m\u001b[39mNão foi possível abrir o arquivo! Error: \u001b[39m\u001b[39m{\u001b[39;00me\u001b[39m}\u001b[39;00m\u001b[39m\"\u001b[39m)\n\u001b[0;32m     79\u001b[0m         \u001b[39mraise\u001b[39;00m\n\u001b[0;32m     81\u001b[0m \u001b[39mexcept\u001b[39;00m requests\u001b[39m.\u001b[39mexceptions\u001b[39m.\u001b[39mRequestException \u001b[39mas\u001b[39;00m e:\n",
      "\u001b[1;31mUnboundLocalError\u001b[0m: cannot access local variable 'e' where it is not associated with a value"
     ]
    }
   ],
   "source": [
    "Ncbi.download_all_records(database='nucleotide',query='chimpanzee[orgn]+AND+biomol+mrna[prop]',filename='data/raw/chimp.xml')"
   ]
  }
 ],
 "metadata": {
  "kernelspec": {
   "display_name": "venv",
   "language": "python",
   "name": "python3"
  },
  "language_info": {
   "codemirror_mode": {
    "name": "ipython",
    "version": 3
   },
   "file_extension": ".py",
   "mimetype": "text/x-python",
   "name": "python",
   "nbconvert_exporter": "python",
   "pygments_lexer": "ipython3",
   "version": "3.12.0"
  }
 },
 "nbformat": 4,
 "nbformat_minor": 2
}
